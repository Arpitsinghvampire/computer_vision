{
  "nbformat": 4,
  "nbformat_minor": 0,
  "metadata": {
    "colab": {
      "provenance": []
    },
    "kernelspec": {
      "name": "python3",
      "display_name": "Python 3"
    },
    "language_info": {
      "name": "python"
    }
  },
  "cells": [
    {
      "cell_type": "code",
      "execution_count": 1,
      "metadata": {
        "id": "1vyBmd23wMuE"
      },
      "outputs": [],
      "source": [
        "#here we import the dependencies\n",
        "import tensorflow as tf\n",
        "from tensorflow import keras\n",
        "from tensorflow.keras import layers\n",
        "from tensorflow.keras.datasets import mnist"
      ]
    },
    {
      "cell_type": "code",
      "source": [
        "#now we split the data into train and the test set\n",
        "(x_train,y_train),(x_test,y_test)=mnist.load_data()\n",
        "#this stores the train and the test set\n",
        "#this value is stored as numpy array\n",
        "\n"
      ],
      "metadata": {
        "colab": {
          "base_uri": "https://localhost:8080/"
        },
        "id": "RDbBOQmPwkR6",
        "outputId": "ea4d5c2d-f387-4e62-cb4e-16596909bfa1"
      },
      "execution_count": 2,
      "outputs": [
        {
          "output_type": "stream",
          "name": "stdout",
          "text": [
            "Downloading data from https://storage.googleapis.com/tensorflow/tf-keras-datasets/mnist.npz\n",
            "11490434/11490434 [==============================] - 0s 0us/step\n"
          ]
        }
      ]
    },
    {
      "cell_type": "code",
      "source": [
        "print(x_train.shape)\n",
        "print(y_train.shape)\n",
        "print(x_test.shape)\n",
        "print(y_test.shape)"
      ],
      "metadata": {
        "colab": {
          "base_uri": "https://localhost:8080/"
        },
        "id": "iOqwT0Ysw18N",
        "outputId": "2ff39e23-cadc-4775-846c-dce37a25f8bd"
      },
      "execution_count": 3,
      "outputs": [
        {
          "output_type": "stream",
          "name": "stdout",
          "text": [
            "(60000, 28, 28)\n",
            "(60000,)\n",
            "(10000, 28, 28)\n",
            "(10000,)\n"
          ]
        }
      ]
    },
    {
      "cell_type": "code",
      "source": [
        "#now we move forward with our model creation\n",
        "#for this we will use our sequential api in keras\n",
        "#i have used custom layers for practice purpose\n",
        "model = keras.Sequential(\n",
        "    [\n",
        "        layers.Input((28, 28, 1)),\n",
        "        layers.Conv2D(64, (3, 3), activation='relu'),\n",
        "        layers.MaxPool2D(),\n",
        "        layers.Conv2D(32, (5, 5), activation='relu'),\n",
        "        layers.MaxPool2D(),\n",
        "        layers.Conv2D(16, (3, 3), activation='relu'),\n",
        "        layers.Flatten(),\n",
        "        layers.Dense(10, activation='softmax')  # Adjust activation based on your problem\n",
        "    ]\n",
        ")\n"
      ],
      "metadata": {
        "id": "bpcyGHdrw8xr"
      },
      "execution_count": 12,
      "outputs": []
    },
    {
      "cell_type": "code",
      "source": [
        "#now here we can print the summary of the model\n",
        "model.summary()"
      ],
      "metadata": {
        "colab": {
          "base_uri": "https://localhost:8080/"
        },
        "id": "k3BylsJjyvoM",
        "outputId": "66a52360-be26-496d-aa32-96810397a3b6"
      },
      "execution_count": 13,
      "outputs": [
        {
          "output_type": "stream",
          "name": "stdout",
          "text": [
            "Model: \"sequential_2\"\n",
            "_________________________________________________________________\n",
            " Layer (type)                Output Shape              Param #   \n",
            "=================================================================\n",
            " conv2d_6 (Conv2D)           (None, 26, 26, 64)        640       \n",
            "                                                                 \n",
            " max_pooling2d_4 (MaxPoolin  (None, 13, 13, 64)        0         \n",
            " g2D)                                                            \n",
            "                                                                 \n",
            " conv2d_7 (Conv2D)           (None, 9, 9, 32)          51232     \n",
            "                                                                 \n",
            " max_pooling2d_5 (MaxPoolin  (None, 4, 4, 32)          0         \n",
            " g2D)                                                            \n",
            "                                                                 \n",
            " conv2d_8 (Conv2D)           (None, 2, 2, 16)          4624      \n",
            "                                                                 \n",
            " flatten (Flatten)           (None, 64)                0         \n",
            "                                                                 \n",
            " dense_2 (Dense)             (None, 10)                650       \n",
            "                                                                 \n",
            "=================================================================\n",
            "Total params: 57146 (223.23 KB)\n",
            "Trainable params: 57146 (223.23 KB)\n",
            "Non-trainable params: 0 (0.00 Byte)\n",
            "_________________________________________________________________\n"
          ]
        }
      ]
    },
    {
      "cell_type": "code",
      "source": [
        "#now after making the model we should compile the model\n",
        "model.compile(optimizer=keras.optimizers.Adam(learning_rate=0.01),loss=keras.losses.MeanSquaredError(),metrics=['accuracy'])"
      ],
      "metadata": {
        "id": "vX3XKTLrzpwO"
      },
      "execution_count": 14,
      "outputs": []
    },
    {
      "cell_type": "code",
      "source": [
        "#now we need to fit our train set into the model\n",
        "model.fit(x_train,y_train,batch_size=32,verbose=1,epochs=3)\n"
      ],
      "metadata": {
        "colab": {
          "base_uri": "https://localhost:8080/"
        },
        "id": "ExnvBhgFy3ml",
        "outputId": "a32ef8f1-f0b0-4a84-c5ef-3bfc2fa44c4d"
      },
      "execution_count": 16,
      "outputs": [
        {
          "output_type": "stream",
          "name": "stdout",
          "text": [
            "Epoch 1/3\n",
            "1875/1875 [==============================] - 100s 53ms/step - loss: 27.3945 - accuracy: 0.1124\n",
            "Epoch 2/3\n",
            "1875/1875 [==============================] - 100s 53ms/step - loss: 27.3945 - accuracy: 0.1124\n",
            "Epoch 3/3\n",
            "1875/1875 [==============================] - 96s 51ms/step - loss: 27.3945 - accuracy: 0.1124\n"
          ]
        },
        {
          "output_type": "execute_result",
          "data": {
            "text/plain": [
              "<keras.src.callbacks.History at 0x7c3e0fc835b0>"
            ]
          },
          "metadata": {},
          "execution_count": 16
        }
      ]
    },
    {
      "cell_type": "code",
      "source": [
        "#now we need to evaluate the model\n",
        "loss,accuracy=model.evaluate(x_test,y_test,batch_size=32,verbose=1)\n",
        "#the first part is the loss and the second part is accuracy\n"
      ],
      "metadata": {
        "colab": {
          "base_uri": "https://localhost:8080/"
        },
        "id": "246tMVCW0Tfg",
        "outputId": "71e22dc4-e0b6-428d-8d62-0cec7dea2bd0"
      },
      "execution_count": 18,
      "outputs": [
        {
          "output_type": "stream",
          "name": "stdout",
          "text": [
            "313/313 [==============================] - 5s 17ms/step - loss: 27.3403 - accuracy: 0.1135\n"
          ]
        }
      ]
    }
  ]
}